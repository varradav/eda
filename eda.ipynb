{
 "cells": [
  {
   "cell_type": "markdown",
   "id": "d0b1c19d-f7ea-4f1a-b64b-5c2a87895a36",
   "metadata": {
    "jp-MarkdownHeadingCollapsed": true,
    "tags": []
   },
   "source": [
    "### Задание\n",
    "\n",
    "1.  Найти самые частые и самые редкие продукты\n",
    "2. Найти популярные сочетания продуктов\n",
    "3. Какие продукты не сочетаются вместе\n",
    "4. Сделать инструмент поиска: по заданным продуктам (без количества) должны выдаваться рецепты блюд, которые можно приготовить из них.\n"
   ]
  },
  {
   "cell_type": "markdown",
   "id": "7c4b20ab-849a-448e-9fcb-5c058a29e905",
   "metadata": {},
   "source": [
    "### Решение\n",
    "\n",
    "В датасете всего 1,159,675 строк. Всего ингредиентов: 3811. Всего рецептов: 22824.\n",
    "\n",
    "В таблице были следующие категории:  заготовки, паста и пицца, супы, салаты, основные блюда, завтраки, сэндвичи, выпечка и десерты, соусы и маринады.\n",
    "\n",
    "1. \n",
    "\n",
    "Самые частые продукты (первые пять): Чеснок, Соль, Оливковое масло, Лук репчатый, Сливочное масло\n",
    "\n",
    "Самые редкие продукты (пять любых с частотой 1): Валенсийский апельсин, Бычки, Специи для креветок, Семена черного лука, Кофейный экстракт\n",
    "\n",
    "2. \n",
    "\n",
    "Максимальная сочетаемость продуктов по частоте:   \n",
    "\n",
    "0 2-0 111492 Оливковое масло - Чеснок   \n",
    "1 5-0 87041  Помидоры - Чеснок   \n",
    "2 3-0 86652  Лук репчатый - Чеснок   \n",
    "3 1-0 82054  Соль - Чеснок  \n",
    "4 5-2 76028  Помидоры - Оливковое масло  \n",
    "\n",
    "\n",
    "3. \n",
    "\n",
    "Какие продукты не сочетаются вместе (минимальная сочетаемость, но есть в базе):\n",
    "\n",
    "\n",
    "0 1262-618 Желатин в пластинах - Бараний фарш   \n",
    "1 1262-88  Желатин в пластинах - Горчица   \n",
    "2 1262-200 Желатин в пластинах -  Маринованные огурцы  \n",
    "3 1262-415 Желатин в пластинах - Панчетта    \n",
    "\n",
    "\n",
    "4. \n",
    "\n",
    "Функция find_name(list) ищет рецепты по cписку продуктов.\n",
    "Выводится 5 рецептов или сообщение что рецептов нет. \n",
    "Пример работы:\n",
    "\n",
    "find_name(['Чеснок', 'Соль', 'Оливковое масло'])\n",
    "\n",
    "Продукт: Чеснок   \n",
    "Продукт: Соль   \n",
    "Продукт: Оливковое масло   \n",
    "Рецепт: krasnyy-luk-marinovannyy-v-vinnom-uksuse-138901   \n",
    "Рецепт: salat-iz-krasnoj-fasoli-s-tvorozhnim-sirom-krasnim-lukom-i-sezonnim-salatom-16922   \n",
    "Рецепт: nastojaschij-grecheskij-salat-30893  \n",
    "Рецепт: salat-s-obzharennimi-tomatami-31055   \n",
    "Рецепт: salat-s-kalmarami-ovoschami-kopchenim-sirom-31628   \n",
    "\n",
    "\n",
    "\n",
    "\n",
    "\n",
    "\n",
    "\n",
    "\n",
    "\n"
   ]
  },
  {
   "cell_type": "code",
   "execution_count": 44,
   "id": "de5c379d-5635-46db-8529-25f09776f0b7",
   "metadata": {},
   "outputs": [],
   "source": [
    "import numpy as np\n",
    "import pandas as pd\n",
    "\n",
    "import matplotlib\n",
    "import matplotlib.pyplot as plt\n",
    "plt.style.use('ggplot')\n",
    "\n",
    "from pylab import rcParams\n",
    "rcParams['figure.figsize'] = 10, 5\n",
    "import seaborn as sns\n",
    "\n",
    "from tqdm import tqdm\n",
    "\n",
    "import warnings\n",
    "warnings.filterwarnings('ignore')"
   ]
  },
  {
   "cell_type": "code",
   "execution_count": 2,
   "id": "3b0471cd",
   "metadata": {},
   "outputs": [
    {
     "data": {
      "text/plain": [
       "(1159675, 6)"
      ]
     },
     "execution_count": 2,
     "metadata": {},
     "output_type": "execute_result"
    }
   ],
   "source": [
    "df = pd.read_csv('ingredients_from_eda.ru.csv')\n",
    "df.shape"
   ]
  },
  {
   "cell_type": "code",
   "execution_count": 3,
   "id": "f507972f",
   "metadata": {
    "tags": []
   },
   "outputs": [
    {
     "name": "stdout",
     "output_type": "stream",
     "text": [
      "1159675\n",
      "id             int64\n",
      "ingredient    object\n",
      "amount        object\n",
      "name          object\n",
      "type          object\n",
      "page           int64\n",
      "dtype: object\n"
     ]
    }
   ],
   "source": [
    "print(len(df))\n",
    "print(df.dtypes)"
   ]
  },
  {
   "cell_type": "code",
   "execution_count": 4,
   "id": "97a13a4c",
   "metadata": {},
   "outputs": [
    {
     "data": {
      "text/html": [
       "<div>\n",
       "<style scoped>\n",
       "    .dataframe tbody tr th:only-of-type {\n",
       "        vertical-align: middle;\n",
       "    }\n",
       "\n",
       "    .dataframe tbody tr th {\n",
       "        vertical-align: top;\n",
       "    }\n",
       "\n",
       "    .dataframe thead th {\n",
       "        text-align: right;\n",
       "    }\n",
       "</style>\n",
       "<table border=\"1\" class=\"dataframe\">\n",
       "  <thead>\n",
       "    <tr style=\"text-align: right;\">\n",
       "      <th></th>\n",
       "      <th>id</th>\n",
       "      <th>ingredient</th>\n",
       "      <th>amount</th>\n",
       "      <th>name</th>\n",
       "      <th>type</th>\n",
       "      <th>page</th>\n",
       "    </tr>\n",
       "  </thead>\n",
       "  <tbody>\n",
       "    <tr>\n",
       "      <th>0</th>\n",
       "      <td>13411</td>\n",
       "      <td>Вода</td>\n",
       "      <td>1 л</td>\n",
       "      <td>kapusta-po-gruzinski-137009</td>\n",
       "      <td>zagotovki</td>\n",
       "      <td>1</td>\n",
       "    </tr>\n",
       "    <tr>\n",
       "      <th>1</th>\n",
       "      <td>13410</td>\n",
       "      <td>Сахар</td>\n",
       "      <td>90 г</td>\n",
       "      <td>kapusta-po-gruzinski-137009</td>\n",
       "      <td>zagotovki</td>\n",
       "      <td>1</td>\n",
       "    </tr>\n",
       "    <tr>\n",
       "      <th>2</th>\n",
       "      <td>13421</td>\n",
       "      <td>Соль</td>\n",
       "      <td>12 г</td>\n",
       "      <td>kapusta-po-gruzinski-137009</td>\n",
       "      <td>zagotovki</td>\n",
       "      <td>1</td>\n",
       "    </tr>\n",
       "    <tr>\n",
       "      <th>3</th>\n",
       "      <td>14585</td>\n",
       "      <td>Уксус 9%-ный</td>\n",
       "      <td>250 мл</td>\n",
       "      <td>kapusta-po-gruzinski-137009</td>\n",
       "      <td>zagotovki</td>\n",
       "      <td>1</td>\n",
       "    </tr>\n",
       "    <tr>\n",
       "      <th>4</th>\n",
       "      <td>13436</td>\n",
       "      <td>Белокочанная капуста</td>\n",
       "      <td>1 штука</td>\n",
       "      <td>kapusta-po-gruzinski-137009</td>\n",
       "      <td>zagotovki</td>\n",
       "      <td>1</td>\n",
       "    </tr>\n",
       "    <tr>\n",
       "      <th>...</th>\n",
       "      <td>...</td>\n",
       "      <td>...</td>\n",
       "      <td>...</td>\n",
       "      <td>...</td>\n",
       "      <td>...</td>\n",
       "      <td>...</td>\n",
       "    </tr>\n",
       "    <tr>\n",
       "      <th>1159670</th>\n",
       "      <td>13458</td>\n",
       "      <td>Пшеничная мука</td>\n",
       "      <td>1 стакан</td>\n",
       "      <td>shokoladno-tvorozhnij-tort-chokochiz-49974</td>\n",
       "      <td>vypechka-deserty</td>\n",
       "      <td>1719</td>\n",
       "    </tr>\n",
       "    <tr>\n",
       "      <th>1159671</th>\n",
       "      <td>13546</td>\n",
       "      <td>Какао</td>\n",
       "      <td>2 столовые ложки</td>\n",
       "      <td>shokoladno-tvorozhnij-tort-chokochiz-49974</td>\n",
       "      <td>vypechka-deserty</td>\n",
       "      <td>1719</td>\n",
       "    </tr>\n",
       "    <tr>\n",
       "      <th>1159672</th>\n",
       "      <td>14232</td>\n",
       "      <td>Ликер</td>\n",
       "      <td>1 столовая ложка</td>\n",
       "      <td>shokoladno-tvorozhnij-tort-chokochiz-49974</td>\n",
       "      <td>vypechka-deserty</td>\n",
       "      <td>1719</td>\n",
       "    </tr>\n",
       "    <tr>\n",
       "      <th>1159673</th>\n",
       "      <td>13412</td>\n",
       "      <td>Сливочное масло</td>\n",
       "      <td>200 г</td>\n",
       "      <td>shokoladno-tvorozhnij-tort-chokochiz-49974</td>\n",
       "      <td>vypechka-deserty</td>\n",
       "      <td>1719</td>\n",
       "    </tr>\n",
       "    <tr>\n",
       "      <th>1159674</th>\n",
       "      <td>13561</td>\n",
       "      <td>Горький шоколад</td>\n",
       "      <td>200 г</td>\n",
       "      <td>shokoladno-tvorozhnij-tort-chokochiz-49974</td>\n",
       "      <td>vypechka-deserty</td>\n",
       "      <td>1719</td>\n",
       "    </tr>\n",
       "  </tbody>\n",
       "</table>\n",
       "<p>1159675 rows × 6 columns</p>\n",
       "</div>"
      ],
      "text/plain": [
       "            id            ingredient            amount  \\\n",
       "0        13411                  Вода               1 л   \n",
       "1        13410                 Сахар              90 г   \n",
       "2        13421                  Соль              12 г   \n",
       "3        14585          Уксус 9%-ный            250 мл   \n",
       "4        13436  Белокочанная капуста           1 штука   \n",
       "...        ...                   ...               ...   \n",
       "1159670  13458        Пшеничная мука          1 стакан   \n",
       "1159671  13546                 Какао  2 столовые ложки   \n",
       "1159672  14232                 Ликер  1 столовая ложка   \n",
       "1159673  13412       Сливочное масло             200 г   \n",
       "1159674  13561       Горький шоколад             200 г   \n",
       "\n",
       "                                               name              type  page  \n",
       "0                       kapusta-po-gruzinski-137009         zagotovki     1  \n",
       "1                       kapusta-po-gruzinski-137009         zagotovki     1  \n",
       "2                       kapusta-po-gruzinski-137009         zagotovki     1  \n",
       "3                       kapusta-po-gruzinski-137009         zagotovki     1  \n",
       "4                       kapusta-po-gruzinski-137009         zagotovki     1  \n",
       "...                                             ...               ...   ...  \n",
       "1159670  shokoladno-tvorozhnij-tort-chokochiz-49974  vypechka-deserty  1719  \n",
       "1159671  shokoladno-tvorozhnij-tort-chokochiz-49974  vypechka-deserty  1719  \n",
       "1159672  shokoladno-tvorozhnij-tort-chokochiz-49974  vypechka-deserty  1719  \n",
       "1159673  shokoladno-tvorozhnij-tort-chokochiz-49974  vypechka-deserty  1719  \n",
       "1159674  shokoladno-tvorozhnij-tort-chokochiz-49974  vypechka-deserty  1719  \n",
       "\n",
       "[1159675 rows x 6 columns]"
      ]
     },
     "execution_count": 4,
     "metadata": {},
     "output_type": "execute_result"
    }
   ],
   "source": [
    "df"
   ]
  },
  {
   "cell_type": "code",
   "execution_count": 5,
   "id": "6a534bb4",
   "metadata": {},
   "outputs": [
    {
     "name": "stdout",
     "output_type": "stream",
     "text": [
      "Чеснок                   45125\n",
      "Соль                     39058\n",
      "Оливковое масло          38959\n",
      "Лук репчатый             34976\n",
      "Сливочное масло          33875\n",
      "                         ...  \n",
      "Валенсийский апельсин        1\n",
      "Бычки                        1\n",
      "Специи для креветок          1\n",
      "Семена черного лука          1\n",
      "Кофейный экстракт            1\n",
      "Name: ingredient, Length: 3811, dtype: int64\n"
     ]
    }
   ],
   "source": [
    "print(df['ingredient'].value_counts(dropna=False))"
   ]
  },
  {
   "cell_type": "code",
   "execution_count": 6,
   "id": "1b7be524-2269-4f5f-b055-9c6f364841a9",
   "metadata": {},
   "outputs": [
    {
     "name": "stdout",
     "output_type": "stream",
     "text": [
      "nozhka-krolika-34927                                       220\n",
      "varenoe-mjaso-s-kislo-ostrim-sousom-20076                  206\n",
      "telyatina-s-brusnichnym-sousom-v-rzhanom-karavae-125105    204\n",
      "poke-s-lososem-i-sousom-nikkey-125144                      200\n",
      "olenina-s-seldereem-i-lakrichnim-sousom-47445              200\n",
      "                                                          ... \n",
      "omlet-po-japonski-39151                                      6\n",
      "jajca-vsmjatku-30908                                         6\n",
      "jajca-zapechennie-v-duhovke-s-kolbaskami-34674               6\n",
      "jajca-vsmjatku-bez-kipjachenija-15176                        6\n",
      "klassicheskie-jajca-v-meshochek-15178                        6\n",
      "Name: name, Length: 22824, dtype: int64\n"
     ]
    }
   ],
   "source": [
    "print(df['name'].value_counts(dropna=False))"
   ]
  },
  {
   "cell_type": "code",
   "execution_count": 7,
   "id": "b754c381-565e-428c-ae10-58cf581b0aee",
   "metadata": {},
   "outputs": [],
   "source": [
    "prod = df['ingredient'].values\n",
    "p1 = list(prod)\n",
    "d1 = dict.fromkeys(p1, 0)\n",
    "for prod in p1:\n",
    "    d1[prod] += 1\n",
    "prod_sort = sorted(d1, key=d1.get, reverse=True)\n",
    "prod_dict = {}\n",
    "for p in prod_sort:\n",
    "    prod_dict[p] = d1[p]"
   ]
  },
  {
   "cell_type": "code",
   "execution_count": 8,
   "id": "e3423411-51cc-4c40-9d49-55f017d67229",
   "metadata": {},
   "outputs": [],
   "source": [
    "# Сортирвка продуктов по частоте\n",
    "prod_i = dict.fromkeys(prod_sort, 0)\n",
    "for (i,prod) in enumerate(prod_sort):\n",
    "    prod_i[prod] = i"
   ]
  },
  {
   "cell_type": "code",
   "execution_count": 9,
   "id": "11029e3f-e49c-46ba-b5cd-79d13d1b495c",
   "metadata": {},
   "outputs": [],
   "source": [
    "name = df['name'].values\n",
    "n1 = list(name)\n",
    "d2 = dict.fromkeys(n1, 0)\n",
    "for prod in n1:\n",
    "    d2[prod] += 1\n",
    "name_sort = sorted(d2, key=d2.get, reverse=True)\n",
    "name_dict = {}\n",
    "for p in name_sort:\n",
    "    name_dict[p] = d2[p]"
   ]
  },
  {
   "cell_type": "code",
   "execution_count": 10,
   "id": "7fa3c950-86ea-4f8f-a17d-3fef375bdb53",
   "metadata": {},
   "outputs": [],
   "source": [
    "name_i = dict.fromkeys(name_sort, 0)\n",
    "for (i,prod) in enumerate(name_sort):\n",
    "    name_i[prod] = i"
   ]
  },
  {
   "cell_type": "code",
   "execution_count": 11,
   "id": "18337733-fe54-4cc3-bd52-abd670849b94",
   "metadata": {},
   "outputs": [
    {
     "name": "stdout",
     "output_type": "stream",
     "text": [
      "1159675\n",
      "1159675\n"
     ]
    }
   ],
   "source": [
    "print(len(p1))\n",
    "print(len(n1))\n",
    "N = len(n1)"
   ]
  },
  {
   "cell_type": "code",
   "execution_count": 12,
   "id": "55d15d38-7245-459a-8260-6c683a4f9bd9",
   "metadata": {},
   "outputs": [],
   "source": [
    "N = len(n1)\n",
    "out = 'pin,nin\\n'\n",
    "for i in range(N):\n",
    "    pi = p1[i]\n",
    "    pin = prod_i[pi]\n",
    "    ni = n1[i]\n",
    "    nin = name_i[ni]\n",
    "    out += str(pin) + ',' + str(nin) + '\\n'    "
   ]
  },
  {
   "cell_type": "code",
   "execution_count": 13,
   "id": "cb731a7b-cab9-4a4e-b348-5353f88c09cd",
   "metadata": {},
   "outputs": [],
   "source": [
    "with open(\"eda.csv\", \"w\") as f:\n",
    "    f.write(out)"
   ]
  },
  {
   "cell_type": "code",
   "execution_count": 14,
   "id": "2322b7f1-f46c-444d-84f2-6f8961d1fb62",
   "metadata": {},
   "outputs": [
    {
     "data": {
      "text/html": [
       "<div>\n",
       "<style scoped>\n",
       "    .dataframe tbody tr th:only-of-type {\n",
       "        vertical-align: middle;\n",
       "    }\n",
       "\n",
       "    .dataframe tbody tr th {\n",
       "        vertical-align: top;\n",
       "    }\n",
       "\n",
       "    .dataframe thead th {\n",
       "        text-align: right;\n",
       "    }\n",
       "</style>\n",
       "<table border=\"1\" class=\"dataframe\">\n",
       "  <thead>\n",
       "    <tr style=\"text-align: right;\">\n",
       "      <th></th>\n",
       "      <th>pin</th>\n",
       "      <th>nin</th>\n",
       "    </tr>\n",
       "  </thead>\n",
       "  <tbody>\n",
       "    <tr>\n",
       "      <th>0</th>\n",
       "      <td>15</td>\n",
       "      <td>19544</td>\n",
       "    </tr>\n",
       "    <tr>\n",
       "      <th>1</th>\n",
       "      <td>11</td>\n",
       "      <td>19544</td>\n",
       "    </tr>\n",
       "    <tr>\n",
       "      <th>2</th>\n",
       "      <td>1</td>\n",
       "      <td>19544</td>\n",
       "    </tr>\n",
       "    <tr>\n",
       "      <th>3</th>\n",
       "      <td>448</td>\n",
       "      <td>19544</td>\n",
       "    </tr>\n",
       "    <tr>\n",
       "      <th>4</th>\n",
       "      <td>77</td>\n",
       "      <td>19544</td>\n",
       "    </tr>\n",
       "    <tr>\n",
       "      <th>...</th>\n",
       "      <td>...</td>\n",
       "      <td>...</td>\n",
       "    </tr>\n",
       "    <tr>\n",
       "      <th>1159670</th>\n",
       "      <td>7</td>\n",
       "      <td>22470</td>\n",
       "    </tr>\n",
       "    <tr>\n",
       "      <th>1159671</th>\n",
       "      <td>295</td>\n",
       "      <td>22470</td>\n",
       "    </tr>\n",
       "    <tr>\n",
       "      <th>1159672</th>\n",
       "      <td>1506</td>\n",
       "      <td>22470</td>\n",
       "    </tr>\n",
       "    <tr>\n",
       "      <th>1159673</th>\n",
       "      <td>4</td>\n",
       "      <td>22470</td>\n",
       "    </tr>\n",
       "    <tr>\n",
       "      <th>1159674</th>\n",
       "      <td>421</td>\n",
       "      <td>22470</td>\n",
       "    </tr>\n",
       "  </tbody>\n",
       "</table>\n",
       "<p>1159675 rows × 2 columns</p>\n",
       "</div>"
      ],
      "text/plain": [
       "          pin    nin\n",
       "0          15  19544\n",
       "1          11  19544\n",
       "2           1  19544\n",
       "3         448  19544\n",
       "4          77  19544\n",
       "...       ...    ...\n",
       "1159670     7  22470\n",
       "1159671   295  22470\n",
       "1159672  1506  22470\n",
       "1159673     4  22470\n",
       "1159674   421  22470\n",
       "\n",
       "[1159675 rows x 2 columns]"
      ]
     },
     "execution_count": 14,
     "metadata": {},
     "output_type": "execute_result"
    }
   ],
   "source": [
    "eda = pd.read_csv('eda.csv')\n",
    "eda"
   ]
  },
  {
   "cell_type": "code",
   "execution_count": 20,
   "id": "1f7e7d48-10c1-4b7a-90a2-4765a6bd3957",
   "metadata": {},
   "outputs": [
    {
     "data": {
      "text/plain": [
       "22824"
      ]
     },
     "execution_count": 20,
     "metadata": {},
     "output_type": "execute_result"
    }
   ],
   "source": [
    "# число рецептов\n",
    "name_len = len(name_sort)\n",
    "name_len"
   ]
  },
  {
   "cell_type": "code",
   "execution_count": 55,
   "id": "eb4f0621-fe41-46e9-86a6-b0178f53b3c6",
   "metadata": {},
   "outputs": [],
   "source": [
    "# name_sort - список рецептов\n",
    "# name_i - рецепт - номер рецепта\n",
    "# name_r - номер рецепта - рецепт \n",
    "\n",
    "# prod_sort - список продуктов\n",
    "# prod_i - продукт - номер продукта\n",
    "# prod_r - номер продукта - продукт\n",
    "\n",
    "name_r = {v:k for k, v in name_i.items()}\n",
    "prod_r = {v:k for k, v in prod_i.items()}"
   ]
  },
  {
   "cell_type": "code",
   "execution_count": 50,
   "id": "e9aad0ff-36d6-41df-9c86-16b64833ef88",
   "metadata": {},
   "outputs": [
    {
     "name": "stderr",
     "output_type": "stream",
     "text": [
      "100%|██████████| 22824/22824 [02:24<00:00, 158.06it/s]\n"
     ]
    }
   ],
   "source": [
    "# Цикл по рецептам\n",
    "# Определить список продуктов\n",
    "# Цикл по продуктам\n",
    "# Запись в словарь pin1-pin2 = num\n",
    "\n",
    "PP = {}\n",
    "N = name_len\n",
    "#N = 3\n",
    "for nin in tqdm(range(N)):\n",
    "    #name = name_r[nin]\n",
    "    #print(n,name)\n",
    "    pp = list(eda[eda['nin']==nin]['pin'].values)\n",
    "    #print(nin, pp)\n",
    "    for i in pp:\n",
    "        for j in pp:\n",
    "            if j >= i:\n",
    "                continue\n",
    "            index = str(i) + '-' + str(j)\n",
    "            if index not in PP:\n",
    "                PP[index] = 0\n",
    "            else:\n",
    "                PP[index] += 1           \n",
    "            "
   ]
  },
  {
   "cell_type": "code",
   "execution_count": 51,
   "id": "5ea96454-f295-44fc-85dc-1fb62eef250d",
   "metadata": {},
   "outputs": [],
   "source": [
    "# Сочетаемость \n",
    "PP_sort = sorted(PP, key=PP.get, reverse=True)"
   ]
  },
  {
   "cell_type": "code",
   "execution_count": 61,
   "id": "9deb89cb-36be-4fe4-bf17-085d62461757",
   "metadata": {},
   "outputs": [
    {
     "name": "stdout",
     "output_type": "stream",
     "text": [
      "0 2-0 111492\n",
      "1 5-0 87041\n",
      "2 3-0 86652\n",
      "3 1-0 82054\n",
      "4 5-2 76028\n"
     ]
    }
   ],
   "source": [
    "for i in range(5):\n",
    "    pp = PP_sort[i]\n",
    "    n = PP[pp]\n",
    "    print(i, pp, n)\n"
   ]
  },
  {
   "cell_type": "code",
   "execution_count": 63,
   "id": "5c9365ed-538f-45a4-a8d3-7d3428f9da9b",
   "metadata": {},
   "outputs": [
    {
     "name": "stdout",
     "output_type": "stream",
     "text": [
      "0 Чеснок\n",
      "1 Соль\n",
      "2 Оливковое масло\n",
      "3 Лук репчатый\n",
      "4 Сливочное масло\n",
      "5 Помидоры\n"
     ]
    }
   ],
   "source": [
    "print(0, prod_r[0])\n",
    "print(1, prod_r[1])\n",
    "print(2, prod_r[2])\n",
    "print(3, prod_r[3])\n",
    "print(4, prod_r[4])\n",
    "print(5, prod_r[5])"
   ]
  },
  {
   "cell_type": "code",
   "execution_count": 85,
   "id": "8426141a-fe6b-4873-a8f0-cef206ec7c11",
   "metadata": {},
   "outputs": [],
   "source": [
    "# Минимальная сочетаемость \n",
    "PP2_sort = sorted(PP, key=PP.get)"
   ]
  },
  {
   "cell_type": "code",
   "execution_count": 86,
   "id": "3cdccd90-7190-4d83-9ccb-ad59ecc0c595",
   "metadata": {},
   "outputs": [
    {
     "name": "stdout",
     "output_type": "stream",
     "text": [
      "0 1262-618 0\n",
      "1 1262-88 0\n",
      "2 1262-200 0\n",
      "3 1262-415 0\n",
      "4 498-200 0\n"
     ]
    }
   ],
   "source": [
    "for i in range(5):\n",
    "    pp = PP2_sort[i]\n",
    "    n = PP[pp]\n",
    "    print(i, pp, n)\n"
   ]
  },
  {
   "cell_type": "code",
   "execution_count": 88,
   "id": "c0c27af0-e061-49ea-8abe-35c7e3a836f1",
   "metadata": {},
   "outputs": [
    {
     "name": "stdout",
     "output_type": "stream",
     "text": [
      "88 Горчица\n",
      "618 Бараний фарш\n",
      "200 Маринованные огурцы\n",
      "415 Панчетта\n",
      "1262 Желатин в пластинах\n"
     ]
    }
   ],
   "source": [
    "print(88, prod_r[88])\n",
    "print(618, prod_r[618])\n",
    "print(200, prod_r[200])\n",
    "print(415, prod_r[415])\n",
    "print(1262, prod_r[1262])"
   ]
  },
  {
   "cell_type": "code",
   "execution_count": 84,
   "id": "af8bc366-cea6-42d3-9fc2-f991cb92708e",
   "metadata": {},
   "outputs": [
    {
     "name": "stdout",
     "output_type": "stream",
     "text": [
      "Продукт: Чеснок\n",
      "Продукт: Соль\n",
      "Продукт: Оливковое масло\n",
      "Рецепт: krasnyy-luk-marinovannyy-v-vinnom-uksuse-138901\n",
      "Рецепт: salat-iz-krasnoj-fasoli-s-tvorozhnim-sirom-krasnim-lukom-i-sezonnim-salatom-16922\n",
      "Рецепт: nastojaschij-grecheskij-salat-30893\n",
      "Рецепт: salat-s-obzharennimi-tomatami-31055\n",
      "Рецепт: salat-s-kalmarami-ovoschami-kopchenim-sirom-31628\n"
     ]
    }
   ],
   "source": [
    "# Поиск рецептов\n",
    "# На вход подается список продуктов\n",
    "# Определяются их номера\n",
    "# Определяется через pandas список их рецептов\n",
    "# Составляется общий список\n",
    "# Выводится три рецепта\n",
    "# Выводится сообщение если рецептов нет\n",
    "\n",
    "def find_name(pp):\n",
    "    num = len(pp)\n",
    "    for (i,p) in enumerate(pp):\n",
    "        pin = prod_i[p]\n",
    "        print('Продукт:', p)\n",
    "        nn = list(eda[eda['pin']==pin]['nin'].values)\n",
    "        # Убрать дубликаты\n",
    "        nn2 = dict.fromkeys(nn, 0)\n",
    "        nn3 = nn2.keys()\n",
    "        if i == 0:\n",
    "            dd = dict.fromkeys(nn3, 1)\n",
    "            continue\n",
    "        for n in nn3:\n",
    "            if n in dd:\n",
    "                dd[n] += 1\n",
    "    #print(dd)\n",
    "    k = 0\n",
    "    for n in dd.keys():\n",
    "        v = dd[n]\n",
    "        if v < num:\n",
    "            continue\n",
    "        k += 1\n",
    "        if k > 5:\n",
    "            break\n",
    "        print('Рецепт:', name_r[n])\n",
    "    if k == 0:\n",
    "        print('Рецептов не найдено')\n",
    "        \n",
    "\n",
    "find_name(['Чеснок', 'Соль', 'Оливковое масло'])"
   ]
  }
 ],
 "metadata": {
  "kernelspec": {
   "display_name": "Python 3 (ipykernel)",
   "language": "python",
   "name": "python3"
  },
  "language_info": {
   "codemirror_mode": {
    "name": "ipython",
    "version": 3
   },
   "file_extension": ".py",
   "mimetype": "text/x-python",
   "name": "python",
   "nbconvert_exporter": "python",
   "pygments_lexer": "ipython3",
   "version": "3.8.12"
  }
 },
 "nbformat": 4,
 "nbformat_minor": 5
}
